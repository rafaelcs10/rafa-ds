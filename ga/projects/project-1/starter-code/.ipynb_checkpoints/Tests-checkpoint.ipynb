{
 "cells": [
  {
   "cell_type": "code",
   "execution_count": 5,
   "metadata": {
    "collapsed": false
   },
   "outputs": [
    {
     "data": {
      "text/plain": [
       "(<matplotlib.figure.Figure at 0x7fa0ebe5d350>,\n",
       " OrderedDict([(('a',), (0.0, 0.0, 0.24148756339048538, 1.0)), (('c',), (0.24643805843999034, 0.0, 0.38638010142477663, 1.0)), (('b',), (0.63776865491427193, 0.0, 0.36223134508572807, 1.0))]))"
      ]
     },
     "execution_count": 5,
     "metadata": {},
     "output_type": "execute_result"
    }
   ],
   "source": [
    "from statsmodels.graphics.mosaicplot import mosaic\n",
    "\n",
    "data = {'a': 10, 'b': 15, 'c': 16}\n",
    "props = lambda key: {'color': 'r' if 'a' in key else 'gray'}\n",
    "labelizer = lambda k: {(1,1): 'pass', (0,1): 'fail',(,): 'third'}[k]\n",
    "mosaic(data, title='colored dictionary', properties=props, labelizer=labelizer)\n"
   ]
  },
  {
   "cell_type": "code",
   "execution_count": null,
   "metadata": {
    "collapsed": true
   },
   "outputs": [],
   "source": []
  }
 ],
 "metadata": {
  "kernelspec": {
   "display_name": "Python 2",
   "language": "python",
   "name": "python2"
  },
  "language_info": {
   "codemirror_mode": {
    "name": "ipython",
    "version": 2
   },
   "file_extension": ".py",
   "mimetype": "text/x-python",
   "name": "python",
   "nbconvert_exporter": "python",
   "pygments_lexer": "ipython2",
   "version": "2.7.13"
  }
 },
 "nbformat": 4,
 "nbformat_minor": 2
}
